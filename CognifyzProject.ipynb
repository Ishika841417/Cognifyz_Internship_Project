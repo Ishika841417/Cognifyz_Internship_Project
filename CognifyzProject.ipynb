{
 "cells": [
  {
   "cell_type": "code",
   "execution_count": 2,
   "id": "04df751a-d3af-4b36-9045-5794df1c01b4",
   "metadata": {},
   "outputs": [],
   "source": [
    "#lets import python libraries first\n",
    "import numpy as np\n",
    "import pandas as pd\n",
    "import matplotlib.pyplot as plt\n",
    "%matplotlib inline\n",
    "import seaborn as sns"
   ]
  },
  {
   "cell_type": "code",
   "execution_count": 3,
   "id": "f2380a65-b0e4-477e-a00b-d9ab139c53f8",
   "metadata": {},
   "outputs": [
    {
     "name": "stdout",
     "output_type": "stream",
     "text": [
      "False\n"
     ]
    }
   ],
   "source": [
    "#checking the file exists or not\n",
    "import os \n",
    "file_path=r'‪C:\\Users\\ishik\\Downloads\\CognifyzDataset .csv'\n",
    "print(os.path.exists(file_path))"
   ]
  },
  {
   "cell_type": "code",
   "execution_count": 4,
   "id": "e39e9ab7-0474-4cdf-a529-dafe9c58192f",
   "metadata": {},
   "outputs": [],
   "source": [
    "#import csv file\n",
    "df=pd.read_csv(r'C:\\\\Users\\\\ishik\\\\Downloads\\\\CognifyzDataset .csv',encoding='unicode_escape')"
   ]
  },
  {
   "cell_type": "code",
   "execution_count": 6,
   "id": "0447e756-6825-4765-9364-ad72aba15c1c",
   "metadata": {},
   "outputs": [
    {
     "data": {
      "text/plain": [
       "(9551, 21)"
      ]
     },
     "execution_count": 6,
     "metadata": {},
     "output_type": "execute_result"
    }
   ],
   "source": [
    "#checking number of rows and columns\n",
    "df.shape"
   ]
  },
  {
   "cell_type": "code",
   "execution_count": 7,
   "id": "7b818149-dbb7-4c98-b8bf-fee0dff295f3",
   "metadata": {},
   "outputs": [
    {
     "data": {
      "text/html": [
       "<div>\n",
       "<style scoped>\n",
       "    .dataframe tbody tr th:only-of-type {\n",
       "        vertical-align: middle;\n",
       "    }\n",
       "\n",
       "    .dataframe tbody tr th {\n",
       "        vertical-align: top;\n",
       "    }\n",
       "\n",
       "    .dataframe thead th {\n",
       "        text-align: right;\n",
       "    }\n",
       "</style>\n",
       "<table border=\"1\" class=\"dataframe\">\n",
       "  <thead>\n",
       "    <tr style=\"text-align: right;\">\n",
       "      <th></th>\n",
       "      <th>ï»¿Restaurant ID</th>\n",
       "      <th>Restaurant Name</th>\n",
       "      <th>Country Code</th>\n",
       "      <th>City</th>\n",
       "      <th>Address</th>\n",
       "      <th>Locality</th>\n",
       "      <th>Locality Verbose</th>\n",
       "      <th>Longitude</th>\n",
       "      <th>Latitude</th>\n",
       "      <th>Cuisines</th>\n",
       "      <th>...</th>\n",
       "      <th>Currency</th>\n",
       "      <th>Has Table booking</th>\n",
       "      <th>Has Online delivery</th>\n",
       "      <th>Is delivering now</th>\n",
       "      <th>Switch to order menu</th>\n",
       "      <th>Price range</th>\n",
       "      <th>Aggregate rating</th>\n",
       "      <th>Rating color</th>\n",
       "      <th>Rating text</th>\n",
       "      <th>Votes</th>\n",
       "    </tr>\n",
       "  </thead>\n",
       "  <tbody>\n",
       "    <tr>\n",
       "      <th>0</th>\n",
       "      <td>6317637</td>\n",
       "      <td>Le Petit Souffle</td>\n",
       "      <td>162</td>\n",
       "      <td>Makati City</td>\n",
       "      <td>Third Floor, Century City Mall, Kalayaan Avenu...</td>\n",
       "      <td>Century City Mall, Poblacion, Makati City</td>\n",
       "      <td>Century City Mall, Poblacion, Makati City, Mak...</td>\n",
       "      <td>121.027535</td>\n",
       "      <td>14.565443</td>\n",
       "      <td>French, Japanese, Desserts</td>\n",
       "      <td>...</td>\n",
       "      <td>Botswana Pula(P)</td>\n",
       "      <td>Yes</td>\n",
       "      <td>No</td>\n",
       "      <td>No</td>\n",
       "      <td>No</td>\n",
       "      <td>3</td>\n",
       "      <td>4.8</td>\n",
       "      <td>Dark Green</td>\n",
       "      <td>Excellent</td>\n",
       "      <td>314</td>\n",
       "    </tr>\n",
       "    <tr>\n",
       "      <th>1</th>\n",
       "      <td>6304287</td>\n",
       "      <td>Izakaya Kikufuji</td>\n",
       "      <td>162</td>\n",
       "      <td>Makati City</td>\n",
       "      <td>Little Tokyo, 2277 Chino Roces Avenue, Legaspi...</td>\n",
       "      <td>Little Tokyo, Legaspi Village, Makati City</td>\n",
       "      <td>Little Tokyo, Legaspi Village, Makati City, Ma...</td>\n",
       "      <td>121.014101</td>\n",
       "      <td>14.553708</td>\n",
       "      <td>Japanese</td>\n",
       "      <td>...</td>\n",
       "      <td>Botswana Pula(P)</td>\n",
       "      <td>Yes</td>\n",
       "      <td>No</td>\n",
       "      <td>No</td>\n",
       "      <td>No</td>\n",
       "      <td>3</td>\n",
       "      <td>4.5</td>\n",
       "      <td>Dark Green</td>\n",
       "      <td>Excellent</td>\n",
       "      <td>591</td>\n",
       "    </tr>\n",
       "    <tr>\n",
       "      <th>2</th>\n",
       "      <td>6300002</td>\n",
       "      <td>Heat - Edsa Shangri-La</td>\n",
       "      <td>162</td>\n",
       "      <td>Mandaluyong City</td>\n",
       "      <td>Edsa Shangri-La, 1 Garden Way, Ortigas, Mandal...</td>\n",
       "      <td>Edsa Shangri-La, Ortigas, Mandaluyong City</td>\n",
       "      <td>Edsa Shangri-La, Ortigas, Mandaluyong City, Ma...</td>\n",
       "      <td>121.056831</td>\n",
       "      <td>14.581404</td>\n",
       "      <td>Seafood, Asian, Filipino, Indian</td>\n",
       "      <td>...</td>\n",
       "      <td>Botswana Pula(P)</td>\n",
       "      <td>Yes</td>\n",
       "      <td>No</td>\n",
       "      <td>No</td>\n",
       "      <td>No</td>\n",
       "      <td>4</td>\n",
       "      <td>4.4</td>\n",
       "      <td>Green</td>\n",
       "      <td>Very Good</td>\n",
       "      <td>270</td>\n",
       "    </tr>\n",
       "    <tr>\n",
       "      <th>3</th>\n",
       "      <td>6318506</td>\n",
       "      <td>Ooma</td>\n",
       "      <td>162</td>\n",
       "      <td>Mandaluyong City</td>\n",
       "      <td>Third Floor, Mega Fashion Hall, SM Megamall, O...</td>\n",
       "      <td>SM Megamall, Ortigas, Mandaluyong City</td>\n",
       "      <td>SM Megamall, Ortigas, Mandaluyong City, Mandal...</td>\n",
       "      <td>121.056475</td>\n",
       "      <td>14.585318</td>\n",
       "      <td>Japanese, Sushi</td>\n",
       "      <td>...</td>\n",
       "      <td>Botswana Pula(P)</td>\n",
       "      <td>No</td>\n",
       "      <td>No</td>\n",
       "      <td>No</td>\n",
       "      <td>No</td>\n",
       "      <td>4</td>\n",
       "      <td>4.9</td>\n",
       "      <td>Dark Green</td>\n",
       "      <td>Excellent</td>\n",
       "      <td>365</td>\n",
       "    </tr>\n",
       "    <tr>\n",
       "      <th>4</th>\n",
       "      <td>6314302</td>\n",
       "      <td>Sambo Kojin</td>\n",
       "      <td>162</td>\n",
       "      <td>Mandaluyong City</td>\n",
       "      <td>Third Floor, Mega Atrium, SM Megamall, Ortigas...</td>\n",
       "      <td>SM Megamall, Ortigas, Mandaluyong City</td>\n",
       "      <td>SM Megamall, Ortigas, Mandaluyong City, Mandal...</td>\n",
       "      <td>121.057508</td>\n",
       "      <td>14.584450</td>\n",
       "      <td>Japanese, Korean</td>\n",
       "      <td>...</td>\n",
       "      <td>Botswana Pula(P)</td>\n",
       "      <td>Yes</td>\n",
       "      <td>No</td>\n",
       "      <td>No</td>\n",
       "      <td>No</td>\n",
       "      <td>4</td>\n",
       "      <td>4.8</td>\n",
       "      <td>Dark Green</td>\n",
       "      <td>Excellent</td>\n",
       "      <td>229</td>\n",
       "    </tr>\n",
       "  </tbody>\n",
       "</table>\n",
       "<p>5 rows × 21 columns</p>\n",
       "</div>"
      ],
      "text/plain": [
       "   ï»¿Restaurant ID         Restaurant Name  Country Code              City  \\\n",
       "0           6317637        Le Petit Souffle           162       Makati City   \n",
       "1           6304287        Izakaya Kikufuji           162       Makati City   \n",
       "2           6300002  Heat - Edsa Shangri-La           162  Mandaluyong City   \n",
       "3           6318506                    Ooma           162  Mandaluyong City   \n",
       "4           6314302             Sambo Kojin           162  Mandaluyong City   \n",
       "\n",
       "                                             Address  \\\n",
       "0  Third Floor, Century City Mall, Kalayaan Avenu...   \n",
       "1  Little Tokyo, 2277 Chino Roces Avenue, Legaspi...   \n",
       "2  Edsa Shangri-La, 1 Garden Way, Ortigas, Mandal...   \n",
       "3  Third Floor, Mega Fashion Hall, SM Megamall, O...   \n",
       "4  Third Floor, Mega Atrium, SM Megamall, Ortigas...   \n",
       "\n",
       "                                     Locality  \\\n",
       "0   Century City Mall, Poblacion, Makati City   \n",
       "1  Little Tokyo, Legaspi Village, Makati City   \n",
       "2  Edsa Shangri-La, Ortigas, Mandaluyong City   \n",
       "3      SM Megamall, Ortigas, Mandaluyong City   \n",
       "4      SM Megamall, Ortigas, Mandaluyong City   \n",
       "\n",
       "                                    Locality Verbose   Longitude   Latitude  \\\n",
       "0  Century City Mall, Poblacion, Makati City, Mak...  121.027535  14.565443   \n",
       "1  Little Tokyo, Legaspi Village, Makati City, Ma...  121.014101  14.553708   \n",
       "2  Edsa Shangri-La, Ortigas, Mandaluyong City, Ma...  121.056831  14.581404   \n",
       "3  SM Megamall, Ortigas, Mandaluyong City, Mandal...  121.056475  14.585318   \n",
       "4  SM Megamall, Ortigas, Mandaluyong City, Mandal...  121.057508  14.584450   \n",
       "\n",
       "                           Cuisines  ...          Currency Has Table booking  \\\n",
       "0        French, Japanese, Desserts  ...  Botswana Pula(P)               Yes   \n",
       "1                          Japanese  ...  Botswana Pula(P)               Yes   \n",
       "2  Seafood, Asian, Filipino, Indian  ...  Botswana Pula(P)               Yes   \n",
       "3                   Japanese, Sushi  ...  Botswana Pula(P)                No   \n",
       "4                  Japanese, Korean  ...  Botswana Pula(P)               Yes   \n",
       "\n",
       "  Has Online delivery Is delivering now Switch to order menu Price range  \\\n",
       "0                  No                No                   No           3   \n",
       "1                  No                No                   No           3   \n",
       "2                  No                No                   No           4   \n",
       "3                  No                No                   No           4   \n",
       "4                  No                No                   No           4   \n",
       "\n",
       "   Aggregate rating  Rating color Rating text Votes  \n",
       "0               4.8    Dark Green   Excellent   314  \n",
       "1               4.5    Dark Green   Excellent   591  \n",
       "2               4.4         Green   Very Good   270  \n",
       "3               4.9    Dark Green   Excellent   365  \n",
       "4               4.8    Dark Green   Excellent   229  \n",
       "\n",
       "[5 rows x 21 columns]"
      ]
     },
     "execution_count": 7,
     "metadata": {},
     "output_type": "execute_result"
    }
   ],
   "source": [
    "#To see the imported data\n",
    "df.head() #it shows top 5 rows"
   ]
  },
  {
   "cell_type": "code",
   "execution_count": 17,
   "id": "757bd0e7-50d5-4568-b35f-f26749a79f20",
   "metadata": {},
   "outputs": [
    {
     "name": "stdout",
     "output_type": "stream",
     "text": [
      "<class 'pandas.core.frame.DataFrame'>\n",
      "RangeIndex: 9551 entries, 0 to 9550\n",
      "Data columns (total 21 columns):\n",
      " #   Column                Non-Null Count  Dtype  \n",
      "---  ------                --------------  -----  \n",
      " 0   ï»¿Restaurant ID      9551 non-null   int64  \n",
      " 1   Restaurant Name       9551 non-null   object \n",
      " 2   Country Code          9551 non-null   int64  \n",
      " 3   City                  9551 non-null   object \n",
      " 4   Address               9551 non-null   object \n",
      " 5   Locality              9551 non-null   object \n",
      " 6   Locality Verbose      9551 non-null   object \n",
      " 7   Longitude             9551 non-null   float64\n",
      " 8   Latitude              9551 non-null   float64\n",
      " 9   Cuisines              9542 non-null   object \n",
      " 10  Average Cost for two  9551 non-null   int64  \n",
      " 11  Currency              9551 non-null   object \n",
      " 12  Has Table booking     9551 non-null   object \n",
      " 13  Has Online delivery   9551 non-null   object \n",
      " 14  Is delivering now     9551 non-null   object \n",
      " 15  Switch to order menu  9551 non-null   object \n",
      " 16  Price range           9551 non-null   int64  \n",
      " 17  Aggregate rating      9551 non-null   float64\n",
      " 18  Rating color          9551 non-null   object \n",
      " 19  Rating text           9551 non-null   object \n",
      " 20  Votes                 9551 non-null   int64  \n",
      "dtypes: float64(3), int64(5), object(13)\n",
      "memory usage: 1.5+ MB\n"
     ]
    }
   ],
   "source": [
    "#Field details and datatype\n",
    "df.info()"
   ]
  },
  {
   "cell_type": "markdown",
   "id": "ea311e2f-9ae4-40bb-9c8b-ac5e5f45a996",
   "metadata": {},
   "source": [
    "##Let's Start Data Cleaning"
   ]
  },
  {
   "cell_type": "code",
   "execution_count": 8,
   "id": "4f84cacb-532a-4ef9-9d2d-186f10310791",
   "metadata": {},
   "outputs": [
    {
     "data": {
      "text/plain": [
       "Index(['ï»¿Restaurant ID', 'Restaurant Name', 'Country Code', 'City',\n",
       "       'Address', 'Locality', 'Locality Verbose', 'Longitude', 'Latitude',\n",
       "       'Cuisines', 'Average Cost for two', 'Currency', 'Has Table booking',\n",
       "       'Has Online delivery', 'Is delivering now', 'Switch to order menu',\n",
       "       'Price range', 'Aggregate rating', 'Rating color', 'Rating text',\n",
       "       'Votes'],\n",
       "      dtype='object')"
      ]
     },
     "execution_count": 8,
     "metadata": {},
     "output_type": "execute_result"
    }
   ],
   "source": [
    "#List of columns available\n",
    "df.columns"
   ]
  },
  {
   "cell_type": "code",
   "execution_count": 20,
   "id": "93624dc1-8323-4c80-97b9-e2081f24dd30",
   "metadata": {},
   "outputs": [
    {
     "data": {
      "text/plain": [
       "ï»¿Restaurant ID        0\n",
       "Restaurant Name         0\n",
       "Country Code            0\n",
       "City                    0\n",
       "Address                 0\n",
       "Locality                0\n",
       "Locality Verbose        0\n",
       "Longitude               0\n",
       "Latitude                0\n",
       "Cuisines                9\n",
       "Average Cost for two    0\n",
       "Currency                0\n",
       "Has Table booking       0\n",
       "Has Online delivery     0\n",
       "Is delivering now       0\n",
       "Switch to order menu    0\n",
       "Price range             0\n",
       "Aggregate rating        0\n",
       "Rating color            0\n",
       "Rating text             0\n",
       "Votes                   0\n",
       "dtype: int64"
      ]
     },
     "execution_count": 20,
     "metadata": {},
     "output_type": "execute_result"
    }
   ],
   "source": [
    "#Check for null values\n",
    "pd.isnull(df).sum()"
   ]
  },
  {
   "cell_type": "code",
   "execution_count": 29,
   "id": "f8b84268-997f-466a-a0b8-152be5eef873",
   "metadata": {},
   "outputs": [],
   "source": [
    "df.dropna(how='any',inplace=True)"
   ]
  },
  {
   "cell_type": "code",
   "execution_count": 30,
   "id": "ef24d26e-f596-4b6c-aa8e-10d534002851",
   "metadata": {},
   "outputs": [
    {
     "data": {
      "text/plain": [
       "(9542, 21)"
      ]
     },
     "execution_count": 30,
     "metadata": {},
     "output_type": "execute_result"
    }
   ],
   "source": [
    "df.shape"
   ]
  },
  {
   "cell_type": "code",
   "execution_count": 37,
   "id": "4b2e1de0-56cb-4a88-901e-31a58ba636fb",
   "metadata": {},
   "outputs": [],
   "source": [
    "#clean spaces from column names\n",
    "df.columns=df.columns.str.strip()"
   ]
  },
  {
   "cell_type": "code",
   "execution_count": 38,
   "id": "71f72d9e-4f0f-49b7-8234-78966cd380c9",
   "metadata": {},
   "outputs": [
    {
     "data": {
      "text/html": [
       "<div>\n",
       "<style scoped>\n",
       "    .dataframe tbody tr th:only-of-type {\n",
       "        vertical-align: middle;\n",
       "    }\n",
       "\n",
       "    .dataframe tbody tr th {\n",
       "        vertical-align: top;\n",
       "    }\n",
       "\n",
       "    .dataframe thead th {\n",
       "        text-align: right;\n",
       "    }\n",
       "</style>\n",
       "<table border=\"1\" class=\"dataframe\">\n",
       "  <thead>\n",
       "    <tr style=\"text-align: right;\">\n",
       "      <th></th>\n",
       "      <th>ï»¿Restaurant ID</th>\n",
       "      <th>Country Code</th>\n",
       "      <th>Longitude</th>\n",
       "      <th>Latitude</th>\n",
       "      <th>Average Cost for two</th>\n",
       "      <th>Price range</th>\n",
       "      <th>Aggregate rating</th>\n",
       "      <th>Votes</th>\n",
       "    </tr>\n",
       "  </thead>\n",
       "  <tbody>\n",
       "    <tr>\n",
       "      <th>count</th>\n",
       "      <td>9.542000e+03</td>\n",
       "      <td>9542.000000</td>\n",
       "      <td>9542.000000</td>\n",
       "      <td>9542.000000</td>\n",
       "      <td>9542.000000</td>\n",
       "      <td>9542.000000</td>\n",
       "      <td>9542.000000</td>\n",
       "      <td>9542.000000</td>\n",
       "    </tr>\n",
       "    <tr>\n",
       "      <th>mean</th>\n",
       "      <td>9.043301e+06</td>\n",
       "      <td>18.179208</td>\n",
       "      <td>64.274997</td>\n",
       "      <td>25.848532</td>\n",
       "      <td>1200.326137</td>\n",
       "      <td>1.804968</td>\n",
       "      <td>2.665238</td>\n",
       "      <td>156.772060</td>\n",
       "    </tr>\n",
       "    <tr>\n",
       "      <th>std</th>\n",
       "      <td>8.791967e+06</td>\n",
       "      <td>56.451600</td>\n",
       "      <td>41.197602</td>\n",
       "      <td>11.010094</td>\n",
       "      <td>16128.743876</td>\n",
       "      <td>0.905563</td>\n",
       "      <td>1.516588</td>\n",
       "      <td>430.203324</td>\n",
       "    </tr>\n",
       "    <tr>\n",
       "      <th>min</th>\n",
       "      <td>5.300000e+01</td>\n",
       "      <td>1.000000</td>\n",
       "      <td>-157.948486</td>\n",
       "      <td>-41.330428</td>\n",
       "      <td>0.000000</td>\n",
       "      <td>1.000000</td>\n",
       "      <td>0.000000</td>\n",
       "      <td>0.000000</td>\n",
       "    </tr>\n",
       "    <tr>\n",
       "      <th>25%</th>\n",
       "      <td>3.019312e+05</td>\n",
       "      <td>1.000000</td>\n",
       "      <td>77.081565</td>\n",
       "      <td>28.478658</td>\n",
       "      <td>250.000000</td>\n",
       "      <td>1.000000</td>\n",
       "      <td>2.500000</td>\n",
       "      <td>5.000000</td>\n",
       "    </tr>\n",
       "    <tr>\n",
       "      <th>50%</th>\n",
       "      <td>6.002726e+06</td>\n",
       "      <td>1.000000</td>\n",
       "      <td>77.192031</td>\n",
       "      <td>28.570444</td>\n",
       "      <td>400.000000</td>\n",
       "      <td>2.000000</td>\n",
       "      <td>3.200000</td>\n",
       "      <td>31.000000</td>\n",
       "    </tr>\n",
       "    <tr>\n",
       "      <th>75%</th>\n",
       "      <td>1.835260e+07</td>\n",
       "      <td>1.000000</td>\n",
       "      <td>77.282043</td>\n",
       "      <td>28.642711</td>\n",
       "      <td>700.000000</td>\n",
       "      <td>2.000000</td>\n",
       "      <td>3.700000</td>\n",
       "      <td>130.000000</td>\n",
       "    </tr>\n",
       "    <tr>\n",
       "      <th>max</th>\n",
       "      <td>1.850065e+07</td>\n",
       "      <td>216.000000</td>\n",
       "      <td>174.832089</td>\n",
       "      <td>55.976980</td>\n",
       "      <td>800000.000000</td>\n",
       "      <td>4.000000</td>\n",
       "      <td>4.900000</td>\n",
       "      <td>10934.000000</td>\n",
       "    </tr>\n",
       "  </tbody>\n",
       "</table>\n",
       "</div>"
      ],
      "text/plain": [
       "       ï»¿Restaurant ID  Country Code    Longitude     Latitude  \\\n",
       "count      9.542000e+03   9542.000000  9542.000000  9542.000000   \n",
       "mean       9.043301e+06     18.179208    64.274997    25.848532   \n",
       "std        8.791967e+06     56.451600    41.197602    11.010094   \n",
       "min        5.300000e+01      1.000000  -157.948486   -41.330428   \n",
       "25%        3.019312e+05      1.000000    77.081565    28.478658   \n",
       "50%        6.002726e+06      1.000000    77.192031    28.570444   \n",
       "75%        1.835260e+07      1.000000    77.282043    28.642711   \n",
       "max        1.850065e+07    216.000000   174.832089    55.976980   \n",
       "\n",
       "       Average Cost for two  Price range  Aggregate rating         Votes  \n",
       "count           9542.000000  9542.000000       9542.000000   9542.000000  \n",
       "mean            1200.326137     1.804968          2.665238    156.772060  \n",
       "std            16128.743876     0.905563          1.516588    430.203324  \n",
       "min                0.000000     1.000000          0.000000      0.000000  \n",
       "25%              250.000000     1.000000          2.500000      5.000000  \n",
       "50%              400.000000     2.000000          3.200000     31.000000  \n",
       "75%              700.000000     2.000000          3.700000    130.000000  \n",
       "max           800000.000000     4.000000          4.900000  10934.000000  "
      ]
     },
     "execution_count": 38,
     "metadata": {},
     "output_type": "execute_result"
    }
   ],
   "source": [
    "#df.describe(), it gives description of the data in dataframe,here is 8 numerical columns\n",
    "df.describe()"
   ]
  },
  {
   "cell_type": "markdown",
   "id": "a8774257-5a01-4f7f-bf66-1227a2afdaa8",
   "metadata": {},
   "source": [
    "###Level 1"
   ]
  },
  {
   "cell_type": "markdown",
   "id": "f2e72a22-6f3e-4119-a8e9-c3afbbd804e5",
   "metadata": {},
   "source": [
    "##TASK:1 TOP CUISINES"
   ]
  },
  {
   "cell_type": "code",
   "execution_count": null,
   "id": "7ad9e690-d6b7-4900-865f-71b32f05de43",
   "metadata": {},
   "outputs": [],
   "source": [
    "#1.Determine the top three most common cuisines in the dataset"
   ]
  },
  {
   "cell_type": "code",
   "execution_count": 8,
   "id": "49ec9fa6-e44d-4abe-9e34-c470353e80bc",
   "metadata": {},
   "outputs": [
    {
     "name": "stdout",
     "output_type": "stream",
     "text": [
      "Cuisines\n",
      "North Indian             936\n",
      "North Indian, Chinese    511\n",
      "Chinese                  354\n",
      "Name: count, dtype: int64\n"
     ]
    }
   ],
   "source": [
    "top_3_cuisines=df['Cuisines'].value_counts().head(3)\n",
    "print(top_3_cuisines)"
   ]
  },
  {
   "cell_type": "code",
   "execution_count": null,
   "id": "e3602659-216d-4b6c-ab31-998d13050573",
   "metadata": {},
   "outputs": [],
   "source": [
    "#2.Calculate the percentage of resturants that serve each of the top cuisines"
   ]
  },
  {
   "cell_type": "code",
   "execution_count": 10,
   "id": "6a43f7e5-34e4-4a89-9022-65bfb7fce5d8",
   "metadata": {},
   "outputs": [
    {
     "name": "stdout",
     "output_type": "stream",
     "text": [
      "                Cuisines  percentage\n",
      "0           North Indian         936\n",
      "1  North Indian, Chinese         511\n",
      "2                Chinese         354\n"
     ]
    }
   ],
   "source": [
    "#calculate value counts\n",
    "cuisine_counts=df['Cuisines'].value_counts()\n",
    "# calculate percentages\n",
    "cuisine_percentages=(cuisine_counts/len(df))*100\n",
    "#convert to dataframe\n",
    "top_3_cuisines_df=top_3_cuisines.to_frame().reset_index()\n",
    "top_3_cuisines_df.columns=['Cuisines','percentage']\n",
    "#Round Percentage\n",
    "top_3_cuisines_df['percentage']=top_3_cuisines_df['percentage'].round(2)\n",
    "print(top_3_cuisines_df)\n"
   ]
  },
  {
   "cell_type": "markdown",
   "id": "c26a15b1-0c17-45d6-846a-37a4a6e01115",
   "metadata": {},
   "source": [
    "#TASK:2 CITY ANALYSIS"
   ]
  },
  {
   "cell_type": "code",
   "execution_count": null,
   "id": "00a0bbf7-1e85-419b-b6c0-7435708a4324",
   "metadata": {},
   "outputs": [],
   "source": [
    "#1.Identify the city with the highest number of resturants in the dataset"
   ]
  },
  {
   "cell_type": "code",
   "execution_count": 12,
   "id": "98451e5d-ea9e-442e-9049-92c93784833a",
   "metadata": {},
   "outputs": [
    {
     "name": "stdout",
     "output_type": "stream",
     "text": [
      "        City  restaurant_count\n",
      "0  New Delhi              5473\n"
     ]
    }
   ],
   "source": [
    "top_city_df = df['City'].value_counts().head(1).reset_index()\n",
    "top_city_df.columns = ['City', 'restaurant_count']\n",
    "\n",
    "print(top_city_df)"
   ]
  },
  {
   "cell_type": "code",
   "execution_count": null,
   "id": "d1c9478b-4011-42e0-8526-ab469d3db6be",
   "metadata": {},
   "outputs": [],
   "source": [
    "#2.Calculte the average rating for resturants in each city"
   ]
  },
  {
   "cell_type": "code",
   "execution_count": 19,
   "id": "5f71f059-7b3f-4069-9cdb-a04c3529f0b3",
   "metadata": {},
   "outputs": [
    {
     "name": "stdout",
     "output_type": "stream",
     "text": [
      "                 City  Aggregate rating\n",
      "56         Inner City              4.90\n",
      "107       Quezon City              4.80\n",
      "73        Makati City              4.65\n",
      "95         Pasig City              4.63\n",
      "75   Mandaluyong City              4.62\n",
      "..                ...               ...\n",
      "88          New Delhi              2.44\n",
      "83          Montville              2.40\n",
      "78          Mc Millan              2.40\n",
      "89              Noida              2.04\n",
      "43          Faridabad              1.87\n",
      "\n",
      "[141 rows x 2 columns]\n"
     ]
    }
   ],
   "source": [
    "# Clean column names, just in case\n",
    "df.columns = df.columns.str.strip()\n",
    "\n",
    "# Group by city and calculate average rating\n",
    "avg_rating_per_city = df.groupby('City')['Aggregate rating'].mean().reset_index()\n",
    "\n",
    "# Round for nicer display\n",
    "avg_rating_per_city['Aggregate rating'] = avg_rating_per_city['Aggregate rating'].round(2)\n",
    "\n",
    "# Sort descending by average rating if you like\n",
    "avg_rating_per_city = avg_rating_per_city.sort_values('Aggregate rating', ascending=False)\n",
    "\n",
    "print(avg_rating_per_city)\n",
    "    "
   ]
  },
  {
   "cell_type": "code",
   "execution_count": null,
   "id": "6416d156-ccb2-4006-9aa0-f46bd9339446",
   "metadata": {},
   "outputs": [],
   "source": [
    "#3.Determine the city with the highest average rating"
   ]
  },
  {
   "cell_type": "code",
   "execution_count": 30,
   "id": "b58e2414-32e2-4fac-9c8c-bda9d162378e",
   "metadata": {},
   "outputs": [
    {
     "name": "stdout",
     "output_type": "stream",
     "text": [
      "Inner City\n",
      "Inner City : 4.9\n"
     ]
    }
   ],
   "source": [
    "print(df.groupby('City')['Aggregate rating'].mean().idxmax())\n",
    "avg_by_city = df.groupby('City')['Aggregate rating'].mean()\n",
    "print(avg_by_city.idxmax(), \":\", round(avg_by_city.max(),2))"
   ]
  },
  {
   "cell_type": "markdown",
   "id": "1f51063b-f658-4ae7-a800-2753937bcdd6",
   "metadata": {},
   "source": [
    "##TASK:3 PRICE RANGE DISTRIBUTION"
   ]
  },
  {
   "cell_type": "code",
   "execution_count": null,
   "id": "cc8cb620-ebd4-447b-8994-423d6e864fed",
   "metadata": {},
   "outputs": [],
   "source": [
    "#1.Create a histogram or bar chart to visualize the distribution of price ranges among the resturants."
   ]
  },
  {
   "cell_type": "code",
   "execution_count": 12,
   "id": "bc5e7fa3-a14a-45fb-b785-9142de6e4a8f",
   "metadata": {},
   "outputs": [
    {
     "data": {
      "image/png": "[encoded data removed]",
      "text/plain": [
       "<Figure size 500x300 with 1 Axes>"
      ]
     },
     "metadata": {},
     "output_type": "display_data"
    }
   ],
   "source": [
    "# Clean column names\n",
    "df.columns = df.columns.str.strip()\n",
    "\n",
    "plt.figure(figsize=(5,3))\n",
    "sns.countplot(x='Price range', data=df, hue='Price range', palette='Blues',legend=False)\n",
    "\n",
    "plt.xlabel('Price Range')\n",
    "plt.ylabel('Number of Restaurants')\n",
    "plt.title('Distribution of Price Ranges among Restaurants')\n",
    "\n",
    "plt.show()"
   ]
  },
  {
   "cell_type": "code",
   "execution_count": null,
   "id": "5ea0cd03-294b-4315-9bbd-21c0089626d2",
   "metadata": {},
   "outputs": [],
   "source": [
    "#2.Calculate the percentage of resturants in each price range category."
   ]
  },
  {
   "cell_type": "code",
   "execution_count": 8,
   "id": "fa017d86-e117-4305-8c0d-0ea0afb9e94d",
   "metadata": {},
   "outputs": [
    {
     "name": "stdout",
     "output_type": "stream",
     "text": [
      "   Price range  percentage\n",
      "0            1       46.53\n",
      "1            2       32.59\n",
      "2            3       14.74\n",
      "3            4        6.14\n"
     ]
    }
   ],
   "source": [
    "# Clean column names\n",
    "df.columns = df.columns.str.strip()\n",
    "\n",
    "# Calculate counts of each price range\n",
    "price_counts = df['Price range'].value_counts().sort_index()\n",
    "\n",
    "# Calculate percentages\n",
    "price_percentages = (price_counts / len(df)) * 100\n",
    "\n",
    "# Convert to DataFrame for pretty display\n",
    "price_percentages_df = price_percentages.reset_index()\n",
    "price_percentages_df.columns = ['Price range', 'percentage']\n",
    "\n",
    "# Round percentages\n",
    "price_percentages_df['percentage'] = price_percentages_df['percentage'].round(2)\n",
    "\n",
    "print(price_percentages_df)"
   ]
  },
  {
   "cell_type": "markdown",
   "id": "659b4d64-be1e-4520-bbc6-aae6bc66a4ec",
   "metadata": {},
   "source": [
    "##TASK:4 ONLINE DELIVERY"
   ]
  },
  {
   "cell_type": "code",
   "execution_count": null,
   "id": "08ef3a9b-158a-4a51-8a40-f6d4ed68b54b",
   "metadata": {},
   "outputs": [],
   "source": [
    "#1.Determine the percentsge of resturants that offer online delivery."
   ]
  },
  {
   "cell_type": "code",
   "execution_count": 10,
   "id": "f0f2d067-4ad0-4fc4-9b16-692694bda7f3",
   "metadata": {},
   "outputs": [
    {
     "name": "stdout",
     "output_type": "stream",
     "text": [
      "Percentage of restaurants offering online delivery: 0.0 %\n"
     ]
    }
   ],
   "source": [
    "# Clean column names\n",
    "df.columns = df.columns.str.strip()\n",
    "\n",
    "# Calculate how many restaurants offer online delivery\n",
    "count_online_delivery = df[df['Has Online delivery'] == 1].shape[0]\n",
    "\n",
    "# Calculate percentage\n",
    "percentage_online_delivery = (count_online_delivery / len(df)) * 100\n",
    "\n",
    "# Round it\n",
    "percentage_online_delivery = round(percentage_online_delivery, 2)\n",
    "\n",
    "print(\"Percentage of restaurants offering online delivery:\", percentage_online_delivery,\"%\")\n"
   ]
  },
  {
   "cell_type": "code",
   "execution_count": null,
   "id": "2502a157-5e54-4e16-88b9-51c7572a8cd3",
   "metadata": {},
   "outputs": [],
   "source": [
    "#2.Compare the average rating of resturants with and without online delivery."
   ]
  },
  {
   "cell_type": "code",
   "execution_count": 11,
   "id": "ca513cfa-88ac-4f0e-8d62-bd5b952e851e",
   "metadata": {},
   "outputs": [
    {
     "name": "stdout",
     "output_type": "stream",
     "text": [
      "  Has Online delivery  Aggregate rating\n",
      "0                 NaN              2.47\n",
      "1                 NaN              3.25\n"
     ]
    }
   ],
   "source": [
    "# Clean column names\n",
    "df.columns = df.columns.str.strip()\n",
    "\n",
    "# Group by online delivery flag and calculate average rating\n",
    "avg_rating_delivery = df.groupby('Has Online delivery')['Aggregate rating'].mean().reset_index()\n",
    "\n",
    "# Round the average ratings\n",
    "avg_rating_delivery['Aggregate rating'] = avg_rating_delivery['Aggregate rating'].round(2)\n",
    "\n",
    "# Replace 0/1 with labels for clarity\n",
    "avg_rating_delivery['Has Online delivery'] = avg_rating_delivery['Has Online delivery'].map({0: 'No', 1: 'Yes'})\n",
    "\n",
    "print(avg_rating_delivery)"
   ]
  },
  {
   "cell_type": "markdown",
   "id": "9f503082-00e4-40d0-b6cb-fcbd81bb8e7a",
   "metadata": {},
   "source": [
    "##LEVEL 2"
   ]
  },
  {
   "cell_type": "markdown",
   "id": "3999dfb5-d13c-44b2-b661-a70dbfc25488",
   "metadata": {},
   "source": [
    "#TASK:1 RESTURANTS RATINGS"
   ]
  },
  {
   "cell_type": "code",
   "execution_count": null,
   "id": "2986aa7c-602e-473e-93dd-0bad5cd059b5",
   "metadata": {},
   "outputs": [],
   "source": [
    "#1.Analyze the distribution of aggregate ratings and determine the most common rating range."
   ]
  },
  {
   "cell_type": "code",
   "execution_count": 11,
   "id": "aaff6ae7-0496-4ae2-ab3d-fc21c7388c1c",
   "metadata": {},
   "outputs": [
    {
     "data": {
      "image/png": "[encoded data removed]",
      "text/plain": [
       "<Figure size 700x400 with 1 Axes>"
      ]
     },
     "metadata": {},
     "output_type": "display_data"
    }
   ],
   "source": [
    "import seaborn as sns\n",
    "import matplotlib.pyplot as plt\n",
    "\n",
    "# Clean column names\n",
    "df.columns = df.columns.str.strip()\n",
    "\n",
    "plt.figure(figsize=(7,4))\n",
    "sns.histplot(df['Aggregate rating'], bins=20, color='skyblue', edgecolor='black')\n",
    "\n",
    "plt.title('Distribution of Aggregate Ratings')\n",
    "plt.xlabel('Aggregate Rating')\n",
    "plt.ylabel('Number of Restaurants')\n",
    "\n",
    "plt.show()\n"
   ]
  },
  {
   "cell_type": "code",
   "execution_count": 8,
   "id": "54d3a0b8-d632-4b66-83b9-18c4b09a81f7",
   "metadata": {},
   "outputs": [
    {
     "name": "stdout",
     "output_type": "stream",
     "text": [
      "rating_range\n",
      "0-1    2148\n",
      "1-2      10\n",
      "2-3    1891\n",
      "3-4    4388\n",
      "4-5    1114\n",
      "Name: count, dtype: int64\n"
     ]
    }
   ],
   "source": [
    "import pandas as pd\n",
    "\n",
    "# Define bins and labels\n",
    "bins = [0, 1, 2, 3, 4, 5]\n",
    "labels = ['0-1', '1-2', '2-3', '3-4', '4-5']\n",
    "\n",
    "# Bin the ratings\n",
    "df['rating_range'] = pd.cut(df['Aggregate rating'], bins=bins, labels=labels, include_lowest=True)\n",
    "\n",
    "# Count how many fall in each bin\n",
    "rating_counts = df['rating_range'].value_counts().sort_index()\n",
    "\n",
    "print(rating_counts)"
   ]
  },
  {
   "cell_type": "code",
   "execution_count": 9,
   "id": "aa518746-08ff-4e48-818a-2f74147b6897",
   "metadata": {},
   "outputs": [
    {
     "name": "stdout",
     "output_type": "stream",
     "text": [
      "The most common rating range is 3-4 with 4388 restaurants.\n"
     ]
    }
   ],
   "source": [
    "most_common_range = rating_counts.idxmax()\n",
    "count = rating_counts.max()\n",
    "\n",
    "print(f\"The most common rating range is {most_common_range} with {count} restaurants.\")"
   ]
  },
  {
   "cell_type": "markdown",
   "id": "ce73daa9-119a-460b-a7ed-6a6463955540",
   "metadata": {},
   "source": [
    "#TASK:2 CUISINES COMBINATION"
   ]
  },
  {
   "cell_type": "code",
   "execution_count": null,
   "id": "0a93b8cf-c414-4905-bfa2-f43a15193d03",
   "metadata": {},
   "outputs": [],
   "source": [
    "#1.Identify the most common combinations of cuisines in the dataset."
   ]
  },
  {
   "cell_type": "code",
   "execution_count": 11,
   "id": "9f64d5af-ac24-4975-a3b5-9f87196fedb0",
   "metadata": {},
   "outputs": [
    {
     "name": "stdout",
     "output_type": "stream",
     "text": [
      "Most common cuisine combination: North Indian\n",
      "Number of restaurants with this combination: 936\n"
     ]
    }
   ],
   "source": [
    "# Clean column names\n",
    "df.columns = df.columns.str.strip()\n",
    "\n",
    "# Drop missing values in cuisines\n",
    "df_clean = df[df['Cuisines'].notnull()]\n",
    "\n",
    "# Count exact cuisine combinations\n",
    "cuisine_combo_counts = df_clean['Cuisines'].value_counts()\n",
    "\n",
    "# Get the most common combination\n",
    "most_common_combo = cuisine_combo_counts.idxmax()\n",
    "count = cuisine_combo_counts.max()\n",
    "\n",
    "print(\"Most common cuisine combination:\", most_common_combo)\n",
    "print(\"Number of restaurants with this combination:\",count)"
   ]
  },
  {
   "cell_type": "code",
   "execution_count": null,
   "id": "80a9fc8e-f055-4a56-b23c-93aa6995f7f7",
   "metadata": {},
   "outputs": [],
   "source": [
    "#2.Determine if certain cuisine combinations tend to have higher ratings."
   ]
  },
  {
   "cell_type": "code",
   "execution_count": 12,
   "id": "e20d3ead-ba70-49d2-b1bb-1527102c7ea1",
   "metadata": {},
   "outputs": [
    {
     "name": "stdout",
     "output_type": "stream",
     "text": [
      "                      Cuisines  average_rating  restaurant_count\n",
      "41    American, Coffee and Tea             4.9                 1\n",
      "13     American, BBQ, Sandwich             4.9                 1\n",
      "302    Burger, Bar Food, Steak             4.9                 1\n",
      "1779         Sunda, Indonesian             4.9                 3\n",
      "1286         Mughlai, Lucknowi             4.9                 1\n",
      "808           European, German             4.9                 1\n",
      "803     European, Contemporary             4.9                 1\n",
      "796    European, Asian, Indian             4.9                 1\n",
      "1062             Italian, Deli             4.9                 1\n",
      "93     American, Sandwich, Tea             4.9                 1\n"
     ]
    }
   ],
   "source": [
    "# Clean column names\n",
    "df.columns = df.columns.str.strip()\n",
    "\n",
    "# Drop missing cuisines or ratings\n",
    "df_clean = df[df['Cuisines'].notnull() & df['Aggregate rating'].notnull()]\n",
    "\n",
    "# Group by cuisine combination and calculate:\n",
    "# - average rating\n",
    "# - count of restaurants\n",
    "cuisine_group = (\n",
    "    df_clean.groupby('Cuisines')\n",
    "    .agg(\n",
    "        average_rating=('Aggregate rating', 'mean'),\n",
    "        restaurant_count=('Aggregate rating', 'count')\n",
    "    )\n",
    "    .reset_index()\n",
    ")\n",
    "\n",
    "# Round the average ratings\n",
    "cuisine_group['average_rating'] = cuisine_group['average_rating'].round(2)\n",
    "\n",
    "# Sort by average rating descending\n",
    "cuisine_group = cuisine_group.sort_values('average_rating', ascending=False)\n",
    "\n",
    "print(cuisine_group.head(10))"
   ]
  },
  {
   "cell_type": "markdown",
   "id": "0e65add5-cd07-4dc0-9d0a-133031204685",
   "metadata": {},
   "source": [
    "##TASK:3 GEOGRAPHIC ANALYSIS"
   ]
  },
  {
   "cell_type": "code",
   "execution_count": null,
   "id": "9216ad3b-5892-4491-b287-6edf3725eb9b",
   "metadata": {},
   "outputs": [],
   "source": [
    "#1.Plot the location of resturants on a map using longitude and latitude coordinates."
   ]
  },
  {
   "cell_type": "code",
   "execution_count": 9,
   "id": "02cf2ff8-aa35-4aa8-a191-b180b57121db",
   "metadata": {},
   "outputs": [
    {
     "data": {
      "image/png": "[encoded data removed]",
      "text/plain": [
       "<Figure size 900x500 with 1 Axes>"
      ]
     },
     "metadata": {},
     "output_type": "display_data"
    }
   ],
   "source": [
    "# Drop missing coordinates\n",
    "df_clean = df[df['Longitude'].notnull() & df['Latitude'].notnull()]\n",
    "\n",
    "plt.figure(figsize=(9,5))\n",
    "plt.scatter(\n",
    "    df_clean['Longitude'],\n",
    "    df_clean['Latitude'],\n",
    "    s=10,\n",
    "    alpha=0.5\n",
    ")\n",
    "plt.xlabel('Longitude')\n",
    "plt.ylabel('Latitude')\n",
    "plt.title('Restaurant Locations')\n",
    "plt.show()"
   ]
  },
  {
   "cell_type": "code",
   "execution_count": null,
   "id": "2c3a6c20-0a5e-4d37-bfed-55fad37f1524",
   "metadata": {},
   "outputs": [],
   "source": [
    "#2.Identify an patterns or clusters of resturants in specific areas."
   ]
  },
  {
   "cell_type": "code",
   "execution_count": 16,
   "id": "30c62579-77ae-4336-98b1-04ff56a46483",
   "metadata": {},
   "outputs": [
    {
     "name": "stdout",
     "output_type": "stream",
     "text": [
      "cluster\n",
      " 18    4074\n",
      " 13    1630\n",
      "-1     1387\n",
      " 15    1008\n",
      " 5      497\n",
      " 19     103\n",
      " 7       95\n",
      " 21      68\n",
      " 27      60\n",
      " 26      59\n",
      " 14      52\n",
      " 25      48\n",
      " 9       42\n",
      " 23      40\n",
      " 11      39\n",
      " 24      23\n",
      " 10      23\n",
      " 28      20\n",
      " 34      19\n",
      " 31      18\n",
      " 22      18\n",
      " 4       17\n",
      " 8       17\n",
      " 36      16\n",
      " 37      15\n",
      " 35      14\n",
      " 0       14\n",
      " 12      13\n",
      " 6       13\n",
      " 1       13\n",
      " 3       12\n",
      " 20      12\n",
      " 2       11\n",
      " 30      11\n",
      " 17      10\n",
      " 16      10\n",
      " 29      10\n",
      " 33      10\n",
      " 32      10\n",
      "Name: count, dtype: int64\n"
     ]
    }
   ],
   "source": [
    "from sklearn.cluster import DBSCAN\n",
    "import numpy as np\n",
    "\n",
    "# Clean column names\n",
    "df.columns = df.columns.str.strip()\n",
    "\n",
    "# Drop missing coordinates\n",
    "df_clean = df[df['Longitude'].notnull() & df['Latitude'].notnull()]\n",
    "\n",
    "# Prepare coordinates for clustering\n",
    "coords = df_clean[['Latitude', 'Longitude']].values\n",
    "\n",
    "# DBSCAN clustering\n",
    "dbscan = DBSCAN(eps=0.01, min_samples=10)  # adjust eps as needed\n",
    "clusters = dbscan.fit_predict(coords)\n",
    "\n",
    "# Add cluster labels to dataframe\n",
    "df_clean['cluster'] = clusters\n",
    "\n",
    "# Count how many points in each cluster\n",
    "cluster_counts = df_clean['cluster'].value_counts()\n",
    "\n",
    "print(cluster_counts)"
   ]
  },
  {
   "cell_type": "code",
   "execution_count": 53,
   "id": "70ae6c5b-9b2a-4ed7-b491-7dd11f803d7d",
   "metadata": {},
   "outputs": [
    {
     "data": {
      "image/png": "[encoded data removed]",
      "text/plain": [
       "<Figure size 400x300 with 1 Axes>"
      ]
     },
     "metadata": {},
     "output_type": "display_data"
    }
   ],
   "source": [
    "#for visulaization\n",
    "import matplotlib.pyplot as plt\n",
    "\n",
    "\n",
    "import seaborn as sns\n",
    "import matplotlib.pyplot as plt\n",
    "\n",
    "# Clean column names\n",
    "df.columns = df.columns.str.strip()\n",
    "\n",
    "# Create bar chart\n",
    "plt.figure(figsize=(4,3))\n",
    "sns.countplot(\n",
    "    x='Price range',\n",
    "    data=df,\n",
    "    color='skyblue'\n",
    ")\n",
    "\n",
    "plt.xlabel('Price Range', fontsize=10)\n",
    "plt.ylabel('Number of Restaurants', fontsize=10)\n",
    "plt.title('Distribution of Price Ranges', fontsize=12)\n",
    "plt.xticks(fontsize=9)\n",
    "plt.yticks(fontsize=9)\n",
    "plt.tight_layout()\n",
    "plt.show()"
   ]
  },
  {
   "cell_type": "markdown",
   "id": "63abe49e-f877-4c3c-acad-483955fda8ee",
   "metadata": {},
   "source": [
    "##TASK:4 RESTURANT CHAINS"
   ]
  },
  {
   "cell_type": "code",
   "execution_count": null,
   "id": "202ace31-3a47-4c75-beee-b3b84c62a776",
   "metadata": {},
   "outputs": [],
   "source": [
    "#1.Identify if there are any resturant chains present in the dataset."
   ]
  },
  {
   "cell_type": "code",
   "execution_count": 19,
   "id": "9e8655b3-3876-45a4-a9e0-fa223fde5f04",
   "metadata": {},
   "outputs": [
    {
     "name": "stdout",
     "output_type": "stream",
     "text": [
      "       Restaurant Name  Number of locations\n",
      "0      Cafe Coffee Day                   83\n",
      "1       Domino's Pizza                   79\n",
      "2               Subway                   63\n",
      "3     Green Chick Chop                   51\n",
      "4           McDonald's                   48\n",
      "..                 ...                  ...\n",
      "729          San Carlo                    2\n",
      "730           Gymkhana                    2\n",
      "731            Dishoom                    2\n",
      "732        Timboo Cafe                    2\n",
      "733  Dï¿½_veroï¿½ï¿½lu                    2\n",
      "\n",
      "[734 rows x 2 columns]\n"
     ]
    }
   ],
   "source": [
    "# Clean column names\n",
    "df.columns = df.columns.str.strip()\n",
    "\n",
    "# Count how often each restaurant name appears\n",
    "name_counts = df['Restaurant Name'].value_counts()\n",
    "\n",
    "# Find names appearing more than once\n",
    "chains = name_counts[name_counts > 1]\n",
    "\n",
    "# Convert to DataFrame for display\n",
    "chains_df = chains.reset_index()\n",
    "chains_df.columns = ['Restaurant Name', 'Number of locations']\n",
    "\n",
    "print(chains_df)"
   ]
  },
  {
   "cell_type": "code",
   "execution_count": null,
   "id": "6d16e570-e1c9-4ef5-95b6-87cbcda8a6da",
   "metadata": {},
   "outputs": [],
   "source": [
    "#2.Analyze the ratings and popularity of different resturant chains"
   ]
  },
  {
   "cell_type": "code",
   "execution_count": 29,
   "id": "8a7902e4-560d-4e7c-98b2-ef2e246b88a4",
   "metadata": {},
   "outputs": [
    {
     "name": "stdout",
     "output_type": "stream",
     "text": [
      "      Restaurant Name  average_rating  total_votes  number_of_locations\n",
      "122   Cafe Coffee Day            2.42         2428                   83\n",
      "220    Domino's Pizza            2.74         6643                   79\n",
      "618            Subway            2.91         6124                   63\n",
      "281  Green Chick Chop            2.67          964                   51\n",
      "408        McDonald's            3.34         5291                   48\n",
      "363         Keventers            2.87         1263                   34\n",
      "507         Pizza Hut            3.32         4961                   30\n",
      "271             Giani            2.69          854                   29\n",
      "66     Baskin Robbins            1.86          428                   28\n",
      "62    Barbeque Nation            4.35        28142                   26\n"
     ]
    }
   ],
   "source": [
    "df.columns = df.columns.str.strip()\n",
    "\n",
    "# Count how many times each restaurant name appears\n",
    "name_counts = df['Restaurant Name'].value_counts()\n",
    "\n",
    "# Keep only names that appear more than once\n",
    "chains = name_counts[name_counts > 1].index\n",
    "\n",
    "# Filter original dataset to keep only chains\n",
    "df_chains = df[df['Restaurant Name'].isin(chains)]\n",
    "\n",
    "# Group by restaurant name\n",
    "chain_analysis = (\n",
    "    df_chains\n",
    "    .groupby('Restaurant Name')\n",
    "    .agg(\n",
    "        average_rating=('Aggregate rating', 'mean'),\n",
    "        total_votes=('Votes', 'sum'),\n",
    "        number_of_locations=('Restaurant Name', 'count')\n",
    "    )\n",
    "    .reset_index()\n",
    ")\n",
    "\n",
    "# Round ratings for readability\n",
    "chain_analysis['average_rating'] = chain_analysis['average_rating'].round(2)\n",
    "\n",
    "# Sort by number of locations (popularity) or average rating as needed\n",
    "chain_analysis = chain_analysis.sort_values(\n",
    "    'number_of_locations',\n",
    "    ascending=False\n",
    ")\n",
    "\n",
    "print(chain_analysis.head(10))\n",
    "\n",
    "\n"
   ]
  },
  {
   "cell_type": "markdown",
   "id": "da7e9115-dfb0-4adb-938c-3b1970e9526b",
   "metadata": {},
   "source": [
    "## LEVEL 3 "
   ]
  },
  {
   "cell_type": "markdown",
   "id": "2a767c2d-f0df-421b-b4d9-c9ff7c355376",
   "metadata": {},
   "source": [
    "##TASK:RESTURANT REVIEWS"
   ]
  },
  {
   "cell_type": "code",
   "execution_count": null,
   "id": "e0cf7228-18f8-4852-9265-d2bd9250e8c2",
   "metadata": {},
   "outputs": [],
   "source": [
    "#1.Analyze the text reviews to identify the most common positive and negative keywords."
   ]
  },
  {
   "cell_type": "code",
   "execution_count": 30,
   "id": "51c59f15-778b-4621-90af-9a6e3d37ccf2",
   "metadata": {},
   "outputs": [
    {
     "name": "stdout",
     "output_type": "stream",
     "text": [
      "Rating text\n",
      "Average      3737\n",
      "Not rated    2148\n",
      "Good         2100\n",
      "Very Good    1079\n",
      "Excellent     301\n",
      "Poor          186\n",
      "Name: count, dtype: int64\n"
     ]
    }
   ],
   "source": [
    "# Clean columns\n",
    "df.columns = df.columns.str.strip()\n",
    "\n",
    "rating_counts = df['Rating text'].value_counts()\n",
    "\n",
    "print(rating_counts)"
   ]
  },
  {
   "cell_type": "code",
   "execution_count": 31,
   "id": "36d9f424-689a-4562-8f63-88917afe93f7",
   "metadata": {},
   "outputs": [
    {
     "name": "stdout",
     "output_type": "stream",
     "text": [
      "  Rating text  Aggregate rating\n",
      "1   Excellent              4.66\n",
      "5   Very Good              4.17\n",
      "2        Good              3.68\n",
      "0     Average              3.05\n",
      "4        Poor              2.30\n",
      "3   Not rated              0.00\n"
     ]
    }
   ],
   "source": [
    "rating_analysis = (\n",
    "    df.groupby('Rating text')['Aggregate rating']\n",
    "    .mean()\n",
    "    .round(2)\n",
    "    .reset_index()\n",
    "    .sort_values('Aggregate rating', ascending=False)\n",
    ")\n",
    "\n",
    "print(rating_analysis)"
   ]
  },
  {
   "cell_type": "code",
   "execution_count": 8,
   "id": "4d39516a-2c44-457b-9ad9-41d09bdb8c92",
   "metadata": {},
   "outputs": [
    {
     "data": {
      "image/png": "[encoded data removed]",
      "text/plain": [
       "<Figure size 700x400 with 1 Axes>"
      ]
     },
     "metadata": {},
     "output_type": "display_data"
    }
   ],
   "source": [
    "plt.figure(figsize=(7,4))\n",
    "sns.countplot(\n",
    "    y='Rating text',\n",
    "    data=df,\n",
    "    order=df['Rating text'].value_counts().index\n",
    ")\n",
    "\n",
    "plt.title('Distribution of Rating Text')\n",
    "plt.xlabel('Number of Restaurants')\n",
    "plt.ylabel('Rating Text')\n",
    "plt.show()\n"
   ]
  },
  {
   "cell_type": "code",
   "execution_count": null,
   "id": "4362c699-2b0c-4149-b8e6-c56c23c67d02",
   "metadata": {},
   "outputs": [],
   "source": [
    "#1.Calculate the average length of reviews and explore if there is a relationship between review length and rating."
   ]
  },
  {
   "cell_type": "code",
   "execution_count": 35,
   "id": "1f6d7a6a-6d77-4f38-b3c3-ae4dde853e5c",
   "metadata": {},
   "outputs": [
    {
     "name": "stdout",
     "output_type": "stream",
     "text": [
      "Correlation between votes and rating: 0.31\n"
     ]
    }
   ],
   "source": [
    "correlation = df['Votes'].corr(df['Aggregate rating'])\n",
    "print(\"Correlation between votes and rating:\", round(correlation,2))\n"
   ]
  },
  {
   "cell_type": "code",
   "execution_count": null,
   "id": "70dbaf66-bf9b-493e-afae-f4641a4391ab",
   "metadata": {},
   "outputs": [],
   "source": [
    "##TASK:2 VOTES ANALYSIS"
   ]
  },
  {
   "cell_type": "code",
   "execution_count": null,
   "id": "aa9cba37-c5c7-4612-af4c-9bfb1cf2da51",
   "metadata": {},
   "outputs": [],
   "source": [
    "#1.Identify the resturants with the highest and lowest number of votes."
   ]
  },
  {
   "cell_type": "code",
   "execution_count": 37,
   "id": "759d186d-400a-4253-b8e8-1af00b2962f5",
   "metadata": {},
   "outputs": [
    {
     "name": "stdout",
     "output_type": "stream",
     "text": [
      "Restaurant(s) with highest number of votes:\n",
      "    Restaurant Name  Votes\n",
      "728            Toit  10934\n",
      "\n",
      "Restaurant(s) with lowest number of votes:\n",
      "                     Restaurant Name  Votes\n",
      "69                  Cantinho da Gula      0\n",
      "874                    The Chaiwalas      0\n",
      "879               Fusion Food Corner      0\n",
      "880                    Punjabi Rasoi      0\n",
      "887                    Baskin Robbin      0\n",
      "...                              ...    ...\n",
      "9044                   6 Packs Momos      0\n",
      "9098                       Cafe' Wow      0\n",
      "9099  Chef's Basket Pop Up Cafï¿½ï¿½      0\n",
      "9103                The Hangout-Deli      0\n",
      "9111                        Platters      0\n",
      "\n",
      "[1094 rows x 2 columns]\n"
     ]
    }
   ],
   "source": [
    "# Clean column names\n",
    "df.columns = df.columns.str.strip()\n",
    "\n",
    "# Find restaurant(s) with highest number of votes\n",
    "max_votes = df['Votes'].max()\n",
    "top_voted = df[df['Votes'] == max_votes]\n",
    "\n",
    "print(\"Restaurant(s) with highest number of votes:\")\n",
    "print(top_voted[['Restaurant Name', 'Votes']])\n",
    "\n",
    "# Find restaurant(s) with lowest number of votes\n",
    "min_votes = df['Votes'].min()\n",
    "least_voted = df[df['Votes'] == min_votes]\n",
    "\n",
    "print(\"\\nRestaurant(s) with lowest number of votes:\")\n",
    "print(least_voted[['Restaurant Name','Votes']])"
   ]
  },
  {
   "cell_type": "code",
   "execution_count": null,
   "id": "bae0dc13-47c7-412e-aabf-e6a81f0bf48c",
   "metadata": {},
   "outputs": [],
   "source": [
    "#2.Analyze if there is a correlation between the number of votes and the rating of a restaurant."
   ]
  },
  {
   "cell_type": "code",
   "execution_count": 7,
   "id": "9eac5de8-979f-4a98-8406-39c2092127ff",
   "metadata": {},
   "outputs": [
    {
     "data": {
      "image/png": "[encoded data removed]",
      "text/plain": [
       "<Figure size 700x400 with 1 Axes>"
      ]
     },
     "metadata": {},
     "output_type": "display_data"
    },
    {
     "name": "stdout",
     "output_type": "stream",
     "text": [
      "Correlation between aggregate rating and votes: 0.314\n"
     ]
    }
   ],
   "source": [
    "df.columns = df.columns.str.strip()\n",
    "import seaborn as sns\n",
    "import matplotlib.pyplot as plt\n",
    "\n",
    "plt.figure(figsize=(7,4))\n",
    "sns.scatterplot(\n",
    "    x='Aggregate rating',\n",
    "    y='Votes',\n",
    "    data=df,\n",
    "    alpha=0.5\n",
    ")\n",
    "plt.title('Votes vs. Aggregate Rating')\n",
    "plt.xlabel('Aggregate Rating')\n",
    "plt.ylabel('Number of Votes')\n",
    "plt.show()\n",
    "correlation = df['Aggregate rating'].corr(df['Votes'])\n",
    "print(\"Correlation between aggregate rating and votes:\", round(correlation,3))"
   ]
  },
  {
   "cell_type": "code",
   "execution_count": null,
   "id": "b386ea5f-8c19-48f8-9bc0-0a119fefcca3",
   "metadata": {},
   "outputs": [],
   "source": [
    "##TASK:3 PRICE RANGE VS ONLINE DELIVERY AND TABLE BOOKING."
   ]
  },
  {
   "cell_type": "code",
   "execution_count": null,
   "id": "23c8d278-c0b1-4b86-a858-16606ef01dfb",
   "metadata": {},
   "outputs": [],
   "source": [
    "#1.Analyze if there is a relationship between the price range and the availability of online delivery and table booking"
   ]
  },
  {
   "cell_type": "code",
   "execution_count": 44,
   "id": "c0468397-52ea-4328-9e0c-906ceb72ef9c",
   "metadata": {},
   "outputs": [
    {
     "name": "stdout",
     "output_type": "stream",
     "text": [
      "[3 4 2 1]\n",
      "['No' 'Yes']\n",
      "['Yes' 'No']\n",
      "Has Online delivery         No        Yes\n",
      "Price range                              \n",
      "1                    84.225923  15.774077\n",
      "2                    58.689367  41.310633\n",
      "3                    70.809659  29.190341\n",
      "4                    90.955631   9.044369\n",
      "Has Table booking         No        Yes\n",
      "Price range                            \n",
      "1                  99.977498   0.022502\n",
      "2                  92.322518   7.677482\n",
      "3                  54.261364  45.738636\n",
      "4                  53.242321  46.757679\n"
     ]
    }
   ],
   "source": [
    "df.columns = df.columns.str.strip()\n",
    "print(df['Price range'].unique())\n",
    "print(df['Has Online delivery'].unique())\n",
    "print(df['Has Table booking'].unique())\n",
    "online_delivery_table = pd.crosstab(\n",
    "    df['Price range'],\n",
    "    df['Has Online delivery'],\n",
    "    normalize='index'\n",
    ") * 100\n",
    "\n",
    "print(online_delivery_table)\n",
    "table_booking_table = pd.crosstab(\n",
    "    df['Price range'],\n",
    "    df['Has Table booking'],\n",
    "    normalize='index'\n",
    ") * 100\n",
    "\n",
    "print(table_booking_table)\n"
   ]
  },
  {
   "cell_type": "code",
   "execution_count": 62,
   "id": "2039160d-753f-49c4-ab86-44e4b94c1b47",
   "metadata": {},
   "outputs": [
    {
     "data": {
      "image/png": "[encoded data removed]",
      "text/plain": [
       "<Figure size 600x400 with 1 Axes>"
      ]
     },
     "metadata": {},
     "output_type": "display_data"
    }
   ],
   "source": [
    "online_delivery_table.plot(\n",
    "    kind='bar',\n",
    "    stacked=True,\n",
    "    color=['tomato', 'seagreen'],\n",
    "    figsize=(6,4)\n",
    ")\n",
    "plt.title('Online Delivery Availability vs. Price Range')\n",
    "plt.ylabel('Percentage of Restaurants')\n",
    "plt.xlabel('Price Range')\n",
    "plt.legend(title='Has Online Delivery')\n",
    "plt.show()\n",
    "\n",
    "\n",
    "\n"
   ]
  },
  {
   "cell_type": "code",
   "execution_count": 61,
   "id": "54a24373-0ba7-4962-979e-82b0f0c3ea11",
   "metadata": {},
   "outputs": [
    {
     "data": {
      "image/png": "[encoded data removed]",
      "text/plain": [
       "<Figure size 600x400 with 1 Axes>"
      ]
     },
     "metadata": {},
     "output_type": "display_data"
    }
   ],
   "source": [
    "table_booking_table.plot(\n",
    "    kind='bar',\n",
    "    stacked=True,\n",
    "    color=['steelblue', 'gold'],\n",
    "    figsize=(6,4)\n",
    ")\n",
    "plt.title('Table Booking Availability vs. Price Range')\n",
    "plt.ylabel('Percentage of Restaurants')\n",
    "plt.xlabel('Price Range')\n",
    "plt.legend(title='Has Table booking')\n",
    "plt.show()"
   ]
  },
  {
   "cell_type": "code",
   "execution_count": null,
   "id": "1c58b48d-2b0b-4707-b173-ce4dc6850da8",
   "metadata": {},
   "outputs": [],
   "source": [
    "#2.Determine if higher-priced restaurants are more likely to offer these services."
   ]
  },
  {
   "cell_type": "code",
   "execution_count": 50,
   "id": "59f09e41-283b-4e30-8e53-8f65f3cea78d",
   "metadata": {},
   "outputs": [
    {
     "name": "stdout",
     "output_type": "stream",
     "text": [
      "   Price range  pct_online_delivery  pct_table_booking\n",
      "0            1                  NaN                NaN\n",
      "1            2                  NaN                NaN\n",
      "2            3                  NaN                NaN\n",
      "3            4                  NaN                NaN\n"
     ]
    }
   ],
   "source": [
    "df.columns = df.columns.str.strip()\n",
    "df['Has Online delivery'] = df['Has Online delivery'].map({'Yes':1,'No':0})\n",
    "df['Has Table booking'] = df['Has Table booking'].map({'Yes':1,'No':0})\n",
    "service_availability = (\n",
    "    df.groupby('Price range')\n",
    "      .agg(\n",
    "          pct_online_delivery = ('Has Online delivery', 'mean'),\n",
    "          pct_table_booking = ('Has Table booking', 'mean')\n",
    "      )\n",
    "      .reset_index()\n",
    ")\n",
    "\n",
    "# Convert to percentage\n",
    "service_availability['pct_online_delivery'] *= 100\n",
    "service_availability['pct_table_booking'] *= 100\n",
    "\n",
    "print(service_availability)"
   ]
  },
  {
   "cell_type": "code",
   "execution_count": null,
   "id": "0e259e71-4e50-4837-a538-6a406fea22d3",
   "metadata": {},
   "outputs": [],
   "source": []
  }
 ],
 "metadata": {
  "kernelspec": {
   "display_name": "Python 3 (ipykernel)",
   "language": "python",
   "name": "python3"
  },
  "language_info": {
   "codemirror_mode": {
    "name": "ipython",
    "version": 3
   },
   "file_extension": ".py",
   "mimetype": "text/x-python",
   "name": "python",
   "nbconvert_exporter": "python",
   "pygments_lexer": "ipython3",
   "version": "3.13.5"
  }
 },
 "nbformat": 4,
 "nbformat_minor": 5
}
